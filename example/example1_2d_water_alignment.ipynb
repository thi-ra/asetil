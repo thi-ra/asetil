{
 "cells": [
  {
   "cell_type": "code",
   "execution_count": 1,
   "metadata": {},
   "outputs": [],
   "source": [
    "import numpy as np\n",
    "from ase import Atoms\n",
    "from ase.build import molecule\n",
    "from ase.calculators.tip4p import TIP4P\n",
    "from ase.visualize import view\n",
    "np.random.seed(42)"
   ]
  },
  {
   "cell_type": "code",
   "execution_count": 19,
   "metadata": {},
   "outputs": [],
   "source": [
    "atoms = Atoms()\n",
    "atoms.cell = (20, 20, 20)\n",
    "\n",
    "h2o = molecule('H2O')\n",
    "h2o.rotate('z', 'x')\n",
    "h2o.rotate('x', 'y')\n",
    "h2o.translate([2,2,0])\n",
    "translate_vectors = [[i, j, 0] for i in [0,4,8,12,16] for j in [0,4,8,12,16]]\n",
    "\n",
    "for i, vec in enumerate(translate_vectors):\n",
    "    add = h2o.copy()\n",
    "    add.set_tags([i]*len(add))\n",
    "    add.translate(vec)\n",
    "    atoms += add\n",
    "initial = atoms.copy()\n",
    "initial.pbc = True"
   ]
  },
  {
   "cell_type": "code",
   "execution_count": 21,
   "metadata": {},
   "outputs": [],
   "source": [
    "# view(initial)"
   ]
  },
  {
   "cell_type": "code",
   "execution_count": 22,
   "metadata": {},
   "outputs": [],
   "source": [
    "import sys\n",
    "sys.path.append('../')\n",
    "from asetil.monte_carlo.monte_carlo import MonteCarlo\n",
    "from asetil.monte_carlo.sampler import TranslateSampler, XYZAxesRotateSampler\n",
    "from asetil.monte_carlo.selector import RandomTagSelector\n",
    "from asetil.monte_carlo.logger import MCPrintLogger, MCPFileLogger, MCInMemoryLogger"
   ]
  },
  {
   "cell_type": "code",
   "execution_count": 24,
   "metadata": {},
   "outputs": [
    {
     "name": "stdout",
     "output_type": "stream",
     "text": [
      "initializing loggers\n",
      " iteration,    sampler.name, latest_accepted_energy,    delta_e,   acceptability,  is_accepted\n",
      "         0,       Translate,              -0.457996,   0.000520,        0.970291,         True\n",
      "       100,       Translate,              -2.575166,  -0.073923,        1.000000,         True\n",
      "       200,       Translate,              -3.070787,  -0.047790,        1.000000,         True\n",
      "       300,       XYZRotate,              -3.284181,   0.087530,        0.006228,        False\n",
      "       400,       XYZRotate,              -3.878597,   0.516250,        0.000000,        False\n",
      "       500,       Translate,              -4.416103,   0.002458,        0.867067,         True\n",
      "       600,       XYZRotate,              -4.863528,   0.098056,        0.003381,        False\n",
      "       700,       XYZRotate,              -4.974770,   0.050998,        0.051870,         True\n",
      "       800,       XYZRotate,              -4.986622,   0.193846,        0.000013,        False\n",
      "       900,       XYZRotate,              -4.991722,   0.406792,        0.000000,        False\n",
      "      1000,       XYZRotate,              -5.286392,   0.261006,        0.000000,        False\n",
      "      1100,       XYZRotate,              -5.375900,   0.965130,        0.000000,        False\n",
      "      1200,       Translate,              -5.423809,   0.087486,        0.006244,        False\n",
      "      1300,       Translate,              -5.466193,   0.004026,        0.791658,         True\n",
      "      1400,       Translate,              -5.453861,   0.710310,        0.000000,        False\n",
      "      1500,       XYZRotate,              -5.619074,   0.456109,        0.000000,        False\n",
      "      1600,       Translate,              -5.662838,   0.036114,        0.123020,        False\n",
      "      1700,       XYZRotate,              -5.609216,   0.504419,        0.000000,        False\n",
      "      1800,       Translate,              -5.575292,  -0.023378,        1.000000,         True\n",
      "      1900,       Translate,              -5.707791,   0.108883,        0.001804,        False\n",
      "      2000,       XYZRotate,              -5.770557,   1.037333,        0.000000,        False\n",
      "      2100,       Translate,              -5.932342,   0.231031,        0.000002,        False\n",
      "      2200,       XYZRotate,              -5.905387,   0.013154,        0.466160,         True\n",
      "      2300,       Translate,              -5.991763,   0.045235,        0.072465,        False\n",
      "      2400,       Translate,              -5.947937,   0.003950,        0.795193,         True\n",
      "      2500,       Translate,              -6.106230,   0.033526,        0.142951,        False\n",
      "      2600,       XYZRotate,              -6.011727,   0.078478,        0.010531,        False\n",
      "      2700,       XYZRotate,              -6.080099,   0.310022,        0.000000,        False\n",
      "      2800,       Translate,              -6.143809,   0.009179,        0.587087,         True\n",
      "      2900,       Translate,              -6.088114,   0.059344,        0.031960,        False\n"
     ]
    }
   ],
   "source": [
    "d = 1e-8\n",
    "samplers = [\n",
    "    TranslateSampler(tag_selector=RandomTagSelector(), x_range=(-0.5, 0.5), y_range=(-0.5, 0.5), z_range=(-d, d)),\n",
    "    XYZAxesRotateSampler(tag_selector=RandomTagSelector(), x_axis_range=(-d, d), y_axis_range=(-d, d), z_axis_range=(-90,90))\n",
    "]\n",
    "loggers = [\n",
    "    MCPrintLogger(log_interval=100),\n",
    "    MCPFileLogger(log_interval=100, out_file='example1.log', force_overwrite=True),\n",
    "    MCInMemoryLogger(log_interval=10)\n",
    "]\n",
    "mc = MonteCarlo(temperature=200, max_iter=3000, samplers=samplers, loggers=loggers)\n",
    "initial.calc = TIP4P()\n",
    "ret = mc.run(initial)\n",
    "ret.wrap()"
   ]
  },
  {
   "cell_type": "code",
   "execution_count": 26,
   "metadata": {},
   "outputs": [
    {
     "data": {
      "text/plain": [
       "<Popen: returncode: None args: ['c:\\\\Users\\\\User\\\\AppData\\\\Local\\\\pypoetry\\\\...>"
      ]
     },
     "execution_count": 26,
     "metadata": {},
     "output_type": "execute_result"
    }
   ],
   "source": [
    "view(ret)"
   ]
  },
  {
   "cell_type": "code",
   "execution_count": 27,
   "metadata": {},
   "outputs": [
    {
     "data": {
      "text/html": [
       "<div>\n",
       "<style scoped>\n",
       "    .dataframe tbody tr th:only-of-type {\n",
       "        vertical-align: middle;\n",
       "    }\n",
       "\n",
       "    .dataframe tbody tr th {\n",
       "        vertical-align: top;\n",
       "    }\n",
       "\n",
       "    .dataframe thead th {\n",
       "        text-align: right;\n",
       "    }\n",
       "</style>\n",
       "<table border=\"1\" class=\"dataframe\">\n",
       "  <thead>\n",
       "    <tr style=\"text-align: right;\">\n",
       "      <th></th>\n",
       "      <th>iteration</th>\n",
       "      <th>sampler.name</th>\n",
       "      <th>latest_accepted_energy</th>\n",
       "      <th>delta_e</th>\n",
       "      <th>acceptability</th>\n",
       "      <th>is_accepted</th>\n",
       "    </tr>\n",
       "  </thead>\n",
       "  <tbody>\n",
       "    <tr>\n",
       "      <th>0</th>\n",
       "      <td>0</td>\n",
       "      <td>Translate</td>\n",
       "      <td>-0.457996</td>\n",
       "      <td>0.000520</td>\n",
       "      <td>9.702912e-01</td>\n",
       "      <td>True</td>\n",
       "    </tr>\n",
       "    <tr>\n",
       "      <th>1</th>\n",
       "      <td>10</td>\n",
       "      <td>XYZRotate</td>\n",
       "      <td>-0.608630</td>\n",
       "      <td>0.027600</td>\n",
       "      <td>2.016110e-01</td>\n",
       "      <td>False</td>\n",
       "    </tr>\n",
       "    <tr>\n",
       "      <th>2</th>\n",
       "      <td>20</td>\n",
       "      <td>Translate</td>\n",
       "      <td>-0.716981</td>\n",
       "      <td>0.006050</td>\n",
       "      <td>7.039509e-01</td>\n",
       "      <td>False</td>\n",
       "    </tr>\n",
       "    <tr>\n",
       "      <th>3</th>\n",
       "      <td>30</td>\n",
       "      <td>Translate</td>\n",
       "      <td>-1.102190</td>\n",
       "      <td>-0.090995</td>\n",
       "      <td>1.000000e+00</td>\n",
       "      <td>True</td>\n",
       "    </tr>\n",
       "    <tr>\n",
       "      <th>4</th>\n",
       "      <td>40</td>\n",
       "      <td>Translate</td>\n",
       "      <td>-1.362828</td>\n",
       "      <td>0.060121</td>\n",
       "      <td>3.054995e-02</td>\n",
       "      <td>False</td>\n",
       "    </tr>\n",
       "    <tr>\n",
       "      <th>...</th>\n",
       "      <td>...</td>\n",
       "      <td>...</td>\n",
       "      <td>...</td>\n",
       "      <td>...</td>\n",
       "      <td>...</td>\n",
       "      <td>...</td>\n",
       "    </tr>\n",
       "    <tr>\n",
       "      <th>295</th>\n",
       "      <td>2950</td>\n",
       "      <td>XYZRotate</td>\n",
       "      <td>-6.089805</td>\n",
       "      <td>-0.000728</td>\n",
       "      <td>1.000000e+00</td>\n",
       "      <td>True</td>\n",
       "    </tr>\n",
       "    <tr>\n",
       "      <th>296</th>\n",
       "      <td>2960</td>\n",
       "      <td>XYZRotate</td>\n",
       "      <td>-6.097539</td>\n",
       "      <td>0.415426</td>\n",
       "      <td>3.401999e-11</td>\n",
       "      <td>False</td>\n",
       "    </tr>\n",
       "    <tr>\n",
       "      <th>297</th>\n",
       "      <td>2970</td>\n",
       "      <td>XYZRotate</td>\n",
       "      <td>-6.092180</td>\n",
       "      <td>0.005359</td>\n",
       "      <td>7.327628e-01</td>\n",
       "      <td>True</td>\n",
       "    </tr>\n",
       "    <tr>\n",
       "      <th>298</th>\n",
       "      <td>2980</td>\n",
       "      <td>XYZRotate</td>\n",
       "      <td>-6.098033</td>\n",
       "      <td>0.135131</td>\n",
       "      <td>3.934217e-04</td>\n",
       "      <td>False</td>\n",
       "    </tr>\n",
       "    <tr>\n",
       "      <th>299</th>\n",
       "      <td>2990</td>\n",
       "      <td>Translate</td>\n",
       "      <td>-6.095580</td>\n",
       "      <td>0.004902</td>\n",
       "      <td>7.524618e-01</td>\n",
       "      <td>True</td>\n",
       "    </tr>\n",
       "  </tbody>\n",
       "</table>\n",
       "<p>300 rows × 6 columns</p>\n",
       "</div>"
      ],
      "text/plain": [
       "     iteration sampler.name  latest_accepted_energy   delta_e  acceptability  \\\n",
       "0            0    Translate               -0.457996  0.000520   9.702912e-01   \n",
       "1           10    XYZRotate               -0.608630  0.027600   2.016110e-01   \n",
       "2           20    Translate               -0.716981  0.006050   7.039509e-01   \n",
       "3           30    Translate               -1.102190 -0.090995   1.000000e+00   \n",
       "4           40    Translate               -1.362828  0.060121   3.054995e-02   \n",
       "..         ...          ...                     ...       ...            ...   \n",
       "295       2950    XYZRotate               -6.089805 -0.000728   1.000000e+00   \n",
       "296       2960    XYZRotate               -6.097539  0.415426   3.401999e-11   \n",
       "297       2970    XYZRotate               -6.092180  0.005359   7.327628e-01   \n",
       "298       2980    XYZRotate               -6.098033  0.135131   3.934217e-04   \n",
       "299       2990    Translate               -6.095580  0.004902   7.524618e-01   \n",
       "\n",
       "     is_accepted  \n",
       "0           True  \n",
       "1          False  \n",
       "2          False  \n",
       "3           True  \n",
       "4          False  \n",
       "..           ...  \n",
       "295         True  \n",
       "296        False  \n",
       "297         True  \n",
       "298        False  \n",
       "299         True  \n",
       "\n",
       "[300 rows x 6 columns]"
      ]
     },
     "execution_count": 27,
     "metadata": {},
     "output_type": "execute_result"
    }
   ],
   "source": [
    "import pandas as pd\n",
    "log, columns = loggers[2].get_log(with_columns=True)\n",
    "df = pd.DataFrame(log, columns=columns)\n",
    "df"
   ]
  },
  {
   "cell_type": "code",
   "execution_count": 28,
   "metadata": {},
   "outputs": [
    {
     "data": {
      "text/plain": [
       "Text(0, 0.5, 'latest accepted energy / eV')"
      ]
     },
     "execution_count": 28,
     "metadata": {},
     "output_type": "execute_result"
    },
    {
     "data": {
      "image/png": "[encoded data removed]",
      "text/plain": [
       "<Figure size 640x480 with 1 Axes>"
      ]
     },
     "metadata": {},
     "output_type": "display_data"
    }
   ],
   "source": [
    "import matplotlib.pyplot as plt\n",
    "fig, ax = plt.subplots()\n",
    "ax.plot(df['iteration'], df['latest_accepted_energy'])\n",
    "ax.set_xlabel('iteration / -', fontsize=15)\n",
    "ax.set_ylabel('latest accepted energy / eV', fontsize=15)"
   ]
  }
 ],
 "metadata": {
  "kernelspec": {
   "display_name": "Python 3",
   "language": "python",
   "name": "python3"
  },
  "language_info": {
   "codemirror_mode": {
    "name": "ipython",
    "version": 3
   },
   "file_extension": ".py",
   "mimetype": "text/x-python",
   "name": "python",
   "nbconvert_exporter": "python",
   "pygments_lexer": "ipython3",
   "version": "3.12.1"
  }
 },
 "nbformat": 4,
 "nbformat_minor": 2
}
