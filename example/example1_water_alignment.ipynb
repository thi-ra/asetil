{
 "cells": [
  {
   "cell_type": "code",
   "execution_count": 1,
   "metadata": {},
   "outputs": [],
   "source": [
    "import numpy as np\n",
    "from ase import Atoms\n",
    "from ase.build import molecule\n",
    "from ase.calculators.tip4p import TIP4P\n",
    "from ase.visualize import view\n",
    "np.random.seed(42)"
   ]
  },
  {
   "cell_type": "code",
   "execution_count": 2,
   "metadata": {},
   "outputs": [],
   "source": [
    "atoms = Atoms()\n",
    "atoms.cell = (20, 20, 3)\n",
    "\n",
    "h2o = molecule('H2O')\n",
    "h2o.rotate('z', 'x')\n",
    "h2o.rotate('x', 'y')\n",
    "translate_vectors = [[i, j, 0] for i in [0,4,8] for j in [0,4,8]]\n",
    "\n",
    "for i, vec in enumerate(translate_vectors):\n",
    "    add = h2o.copy()\n",
    "    add.set_tags([i]*len(add))\n",
    "    add.translate(vec)\n",
    "    atoms += add\n",
    "initial = atoms.copy()\n",
    "initial.pbc = True"
   ]
  },
  {
   "cell_type": "code",
   "execution_count": 3,
   "metadata": {},
   "outputs": [
    {
     "data": {
      "text/plain": [
       "<Popen: returncode: None args: ['c:\\\\Users\\\\User\\\\AppData\\\\Local\\\\pypoetry\\\\...>"
      ]
     },
     "execution_count": 3,
     "metadata": {},
     "output_type": "execute_result"
    }
   ],
   "source": [
    "view(initial)"
   ]
  },
  {
   "cell_type": "code",
   "execution_count": 4,
   "metadata": {},
   "outputs": [],
   "source": [
    "import sys\n",
    "sys.path.append('../')\n",
    "from asetil.monte_carlo.monte_carlo import MonteCarlo\n",
    "from asetil.monte_carlo.proposer import TranslateProposer, RotateProposer\n",
    "from asetil.monte_carlo.selector import RandomTagSelector\n",
    "from asetil.monte_carlo.logger import MCPrintLogger"
   ]
  },
  {
   "cell_type": "code",
   "execution_count": 5,
   "metadata": {},
   "outputs": [
    {
     "name": "stdout",
     "output_type": "stream",
     "text": [
      "initializing loggers\n",
      " iteration,   proposer.name,    delta_e,   acceptability,  is_accepted\n"
     ]
    },
    {
     "ename": "AssertionError",
     "evalue": "cutoff too large",
     "output_type": "error",
     "traceback": [
      "\u001b[1;31m---------------------------------------------------------------------------\u001b[0m",
      "\u001b[1;31mAssertionError\u001b[0m                            Traceback (most recent call last)",
      "Cell \u001b[1;32mIn[5], line 10\u001b[0m\n\u001b[0;32m      8\u001b[0m mc \u001b[38;5;241m=\u001b[39m MonteCarlo(temperature\u001b[38;5;241m=\u001b[39m \u001b[38;5;241m300\u001b[39m,max_iter\u001b[38;5;241m=\u001b[39m\u001b[38;5;241m1000\u001b[39m, proposers\u001b[38;5;241m=\u001b[39m proposers, loggers\u001b[38;5;241m=\u001b[39mloggers)\n\u001b[0;32m      9\u001b[0m initial\u001b[38;5;241m.\u001b[39mcalc \u001b[38;5;241m=\u001b[39m TIP4P()\n\u001b[1;32m---> 10\u001b[0m ret \u001b[38;5;241m=\u001b[39m \u001b[43mmc\u001b[49m\u001b[38;5;241;43m.\u001b[39;49m\u001b[43mrun\u001b[49m\u001b[43m(\u001b[49m\u001b[43minitial\u001b[49m\u001b[43m)\u001b[49m\n\u001b[0;32m     11\u001b[0m ret\u001b[38;5;241m.\u001b[39mwrap()\n",
      "File \u001b[1;32mc:\\Users\\User\\Documents\\programs\\asetil\\example\\..\\asetil\\monte_carlo\\monte_carlo.py:102\u001b[0m, in \u001b[0;36mMonteCarlo.run\u001b[1;34m(self, system, current_iter)\u001b[0m\n\u001b[0;32m    100\u001b[0m         logger\u001b[38;5;241m.\u001b[39minitialize()\n\u001b[0;32m    101\u001b[0m \u001b[38;5;28;01mfor\u001b[39;00m i \u001b[38;5;129;01min\u001b[39;00m \u001b[38;5;28mrange\u001b[39m(current_iter, \u001b[38;5;28mself\u001b[39m\u001b[38;5;241m.\u001b[39mmax_iter):\n\u001b[1;32m--> 102\u001b[0m     system \u001b[38;5;241m=\u001b[39m \u001b[38;5;28;43mself\u001b[39;49m\u001b[38;5;241;43m.\u001b[39;49m\u001b[43mstep\u001b[49m\u001b[43m(\u001b[49m\u001b[43msystem\u001b[49m\u001b[43m,\u001b[49m\u001b[43m \u001b[49m\u001b[43miteration\u001b[49m\u001b[38;5;241;43m=\u001b[39;49m\u001b[43mi\u001b[49m\u001b[43m)\u001b[49m\n\u001b[0;32m    103\u001b[0m \u001b[38;5;28;01mreturn\u001b[39;00m system\n",
      "File \u001b[1;32mc:\\Users\\User\\Documents\\programs\\asetil\\example\\..\\asetil\\monte_carlo\\monte_carlo.py:78\u001b[0m, in \u001b[0;36mMonteCarlo.step\u001b[1;34m(self, system, iteration)\u001b[0m\n\u001b[0;32m     76\u001b[0m tags \u001b[38;5;241m=\u001b[39m proposer\u001b[38;5;241m.\u001b[39mselect_tags(system)\n\u001b[0;32m     77\u001b[0m candidate \u001b[38;5;241m=\u001b[39m proposer\u001b[38;5;241m.\u001b[39mpropose(system, tags\u001b[38;5;241m=\u001b[39mtags)\n\u001b[1;32m---> 78\u001b[0m acceptability \u001b[38;5;241m=\u001b[39m \u001b[43mproposer\u001b[49m\u001b[38;5;241;43m.\u001b[39;49m\u001b[43mcalc_acceptability\u001b[49m\u001b[43m(\u001b[49m\u001b[43msystem\u001b[49m\u001b[43m,\u001b[49m\u001b[43m \u001b[49m\u001b[43mcandidate\u001b[49m\u001b[43m,\u001b[49m\u001b[43m \u001b[49m\u001b[43mbeta\u001b[49m\u001b[38;5;241;43m=\u001b[39;49m\u001b[38;5;28;43mself\u001b[39;49m\u001b[38;5;241;43m.\u001b[39;49m\u001b[43mbeta\u001b[49m\u001b[43m)\u001b[49m\n\u001b[0;32m     79\u001b[0m is_accepted \u001b[38;5;241m=\u001b[39m \u001b[38;5;28mself\u001b[39m\u001b[38;5;241m.\u001b[39mis_acceptable(acceptability)\n\u001b[0;32m     81\u001b[0m \u001b[38;5;28mself\u001b[39m\u001b[38;5;241m.\u001b[39minfo \u001b[38;5;241m=\u001b[39m MCStepInfo(\n\u001b[0;32m     82\u001b[0m     iteration\u001b[38;5;241m=\u001b[39miteration,\n\u001b[0;32m     83\u001b[0m     temperature\u001b[38;5;241m=\u001b[39m\u001b[38;5;28mself\u001b[39m\u001b[38;5;241m.\u001b[39mtemperature,\n\u001b[1;32m   (...)\u001b[0m\n\u001b[0;32m     89\u001b[0m     candidate\u001b[38;5;241m=\u001b[39mcandidate,\n\u001b[0;32m     90\u001b[0m )\n",
      "File \u001b[1;32mc:\\Users\\User\\Documents\\programs\\asetil\\example\\..\\asetil\\monte_carlo\\proposer.py:108\u001b[0m, in \u001b[0;36mTranslateProposer.calc_acceptability\u001b[1;34m(self, before, after, beta)\u001b[0m\n\u001b[0;32m    107\u001b[0m \u001b[38;5;28;01mdef\u001b[39;00m \u001b[38;5;21mcalc_acceptability\u001b[39m(\u001b[38;5;28mself\u001b[39m, before: Atoms, after: Atoms, beta: \u001b[38;5;28mfloat\u001b[39m) \u001b[38;5;241m-\u001b[39m\u001b[38;5;241m>\u001b[39m \u001b[38;5;28mfloat\u001b[39m:\n\u001b[1;32m--> 108\u001b[0m     e_before \u001b[38;5;241m=\u001b[39m \u001b[43mbefore\u001b[49m\u001b[38;5;241;43m.\u001b[39;49m\u001b[43mget_potential_energy\u001b[49m\u001b[43m(\u001b[49m\u001b[43m)\u001b[49m\n\u001b[0;32m    109\u001b[0m     e_after \u001b[38;5;241m=\u001b[39m after\u001b[38;5;241m.\u001b[39mget_potential_energy()\n\u001b[0;32m    110\u001b[0m     \u001b[38;5;28;01mreturn\u001b[39;00m \u001b[38;5;28mmin\u001b[39m(\u001b[38;5;241m1\u001b[39m, np\u001b[38;5;241m.\u001b[39mexp(\u001b[38;5;241m-\u001b[39mbeta \u001b[38;5;241m*\u001b[39m (e_after \u001b[38;5;241m-\u001b[39m e_before)))\n",
      "File \u001b[1;32mc:\\Users\\User\\AppData\\Local\\pypoetry\\Cache\\virtualenvs\\asetil-NuGtTEjN-py3.12\\Lib\\site-packages\\ase\\atoms.py:731\u001b[0m, in \u001b[0;36mAtoms.get_potential_energy\u001b[1;34m(self, force_consistent, apply_constraint)\u001b[0m\n\u001b[0;32m    728\u001b[0m     energy \u001b[38;5;241m=\u001b[39m \u001b[38;5;28mself\u001b[39m\u001b[38;5;241m.\u001b[39m_calc\u001b[38;5;241m.\u001b[39mget_potential_energy(\n\u001b[0;32m    729\u001b[0m         \u001b[38;5;28mself\u001b[39m, force_consistent\u001b[38;5;241m=\u001b[39mforce_consistent)\n\u001b[0;32m    730\u001b[0m \u001b[38;5;28;01melse\u001b[39;00m:\n\u001b[1;32m--> 731\u001b[0m     energy \u001b[38;5;241m=\u001b[39m \u001b[38;5;28;43mself\u001b[39;49m\u001b[38;5;241;43m.\u001b[39;49m\u001b[43m_calc\u001b[49m\u001b[38;5;241;43m.\u001b[39;49m\u001b[43mget_potential_energy\u001b[49m\u001b[43m(\u001b[49m\u001b[38;5;28;43mself\u001b[39;49m\u001b[43m)\u001b[49m\n\u001b[0;32m    732\u001b[0m \u001b[38;5;28;01mif\u001b[39;00m apply_constraint:\n\u001b[0;32m    733\u001b[0m     \u001b[38;5;28;01mfor\u001b[39;00m constraint \u001b[38;5;129;01min\u001b[39;00m \u001b[38;5;28mself\u001b[39m\u001b[38;5;241m.\u001b[39mconstraints:\n",
      "File \u001b[1;32mc:\\Users\\User\\AppData\\Local\\pypoetry\\Cache\\virtualenvs\\asetil-NuGtTEjN-py3.12\\Lib\\site-packages\\ase\\calculators\\calculator.py:709\u001b[0m, in \u001b[0;36mCalculator.get_potential_energy\u001b[1;34m(self, atoms, force_consistent)\u001b[0m\n\u001b[0;32m    708\u001b[0m \u001b[38;5;28;01mdef\u001b[39;00m \u001b[38;5;21mget_potential_energy\u001b[39m(\u001b[38;5;28mself\u001b[39m, atoms\u001b[38;5;241m=\u001b[39m\u001b[38;5;28;01mNone\u001b[39;00m, force_consistent\u001b[38;5;241m=\u001b[39m\u001b[38;5;28;01mFalse\u001b[39;00m):\n\u001b[1;32m--> 709\u001b[0m     energy \u001b[38;5;241m=\u001b[39m \u001b[38;5;28;43mself\u001b[39;49m\u001b[38;5;241;43m.\u001b[39;49m\u001b[43mget_property\u001b[49m\u001b[43m(\u001b[49m\u001b[38;5;124;43m'\u001b[39;49m\u001b[38;5;124;43menergy\u001b[39;49m\u001b[38;5;124;43m'\u001b[39;49m\u001b[43m,\u001b[49m\u001b[43m \u001b[49m\u001b[43matoms\u001b[49m\u001b[43m)\u001b[49m\n\u001b[0;32m    710\u001b[0m     \u001b[38;5;28;01mif\u001b[39;00m force_consistent:\n\u001b[0;32m    711\u001b[0m         \u001b[38;5;28;01mif\u001b[39;00m \u001b[38;5;124m'\u001b[39m\u001b[38;5;124mfree_energy\u001b[39m\u001b[38;5;124m'\u001b[39m \u001b[38;5;129;01mnot\u001b[39;00m \u001b[38;5;129;01min\u001b[39;00m \u001b[38;5;28mself\u001b[39m\u001b[38;5;241m.\u001b[39mresults:\n",
      "File \u001b[1;32mc:\\Users\\User\\AppData\\Local\\pypoetry\\Cache\\virtualenvs\\asetil-NuGtTEjN-py3.12\\Lib\\site-packages\\ase\\calculators\\calculator.py:737\u001b[0m, in \u001b[0;36mCalculator.get_property\u001b[1;34m(self, name, atoms, allow_calculation)\u001b[0m\n\u001b[0;32m    735\u001b[0m     \u001b[38;5;28;01mif\u001b[39;00m \u001b[38;5;129;01mnot\u001b[39;00m allow_calculation:\n\u001b[0;32m    736\u001b[0m         \u001b[38;5;28;01mreturn\u001b[39;00m \u001b[38;5;28;01mNone\u001b[39;00m\n\u001b[1;32m--> 737\u001b[0m     \u001b[38;5;28;43mself\u001b[39;49m\u001b[38;5;241;43m.\u001b[39;49m\u001b[43mcalculate\u001b[49m\u001b[43m(\u001b[49m\u001b[43matoms\u001b[49m\u001b[43m,\u001b[49m\u001b[43m \u001b[49m\u001b[43m[\u001b[49m\u001b[43mname\u001b[49m\u001b[43m]\u001b[49m\u001b[43m,\u001b[49m\u001b[43m \u001b[49m\u001b[43msystem_changes\u001b[49m\u001b[43m)\u001b[49m\n\u001b[0;32m    739\u001b[0m \u001b[38;5;28;01mif\u001b[39;00m name \u001b[38;5;129;01mnot\u001b[39;00m \u001b[38;5;129;01min\u001b[39;00m \u001b[38;5;28mself\u001b[39m\u001b[38;5;241m.\u001b[39mresults:\n\u001b[0;32m    740\u001b[0m     \u001b[38;5;66;03m# For some reason the calculator was not able to do what we want,\u001b[39;00m\n\u001b[0;32m    741\u001b[0m     \u001b[38;5;66;03m# and that is OK.\u001b[39;00m\n\u001b[0;32m    742\u001b[0m     \u001b[38;5;28;01mraise\u001b[39;00m PropertyNotImplementedError(\u001b[38;5;124m'\u001b[39m\u001b[38;5;132;01m{}\u001b[39;00m\u001b[38;5;124m not present in this \u001b[39m\u001b[38;5;124m'\u001b[39m\n\u001b[0;32m    743\u001b[0m                                       \u001b[38;5;124m'\u001b[39m\u001b[38;5;124mcalculation\u001b[39m\u001b[38;5;124m'\u001b[39m\u001b[38;5;241m.\u001b[39mformat(name))\n",
      "File \u001b[1;32mc:\\Users\\User\\AppData\\Local\\pypoetry\\Cache\\virtualenvs\\asetil-NuGtTEjN-py3.12\\Lib\\site-packages\\ase\\calculators\\tip4p.py:72\u001b[0m, in \u001b[0;36mTIP4P.calculate\u001b[1;34m(self, atoms, properties, system_changes)\u001b[0m\n\u001b[0;32m     70\u001b[0m C \u001b[38;5;241m=\u001b[39m cell\u001b[38;5;241m.\u001b[39mdiagonal()\n\u001b[0;32m     71\u001b[0m \u001b[38;5;28;01massert\u001b[39;00m (cell \u001b[38;5;241m==\u001b[39m np\u001b[38;5;241m.\u001b[39mdiag(C))\u001b[38;5;241m.\u001b[39mall(), \u001b[38;5;124m'\u001b[39m\u001b[38;5;124mnot orthorhombic\u001b[39m\u001b[38;5;124m'\u001b[39m\n\u001b[1;32m---> 72\u001b[0m \u001b[38;5;28;01massert\u001b[39;00m ((C \u001b[38;5;241m>\u001b[39m\u001b[38;5;241m=\u001b[39m \u001b[38;5;241m2\u001b[39m \u001b[38;5;241m*\u001b[39m \u001b[38;5;28mself\u001b[39m\u001b[38;5;241m.\u001b[39mrc) \u001b[38;5;241m|\u001b[39m \u001b[38;5;241m~\u001b[39mpbc)\u001b[38;5;241m.\u001b[39mall(), \u001b[38;5;124m'\u001b[39m\u001b[38;5;124mcutoff too large\u001b[39m\u001b[38;5;124m'\u001b[39m\n\u001b[0;32m     74\u001b[0m \u001b[38;5;66;03m# Get dx,dy,dz from first atom of each mol to same atom of all other\u001b[39;00m\n\u001b[0;32m     75\u001b[0m \u001b[38;5;66;03m# and find min. distance. Everything moves according to this analysis.\u001b[39;00m\n\u001b[0;32m     76\u001b[0m \u001b[38;5;28;01mfor\u001b[39;00m a \u001b[38;5;129;01min\u001b[39;00m \u001b[38;5;28mrange\u001b[39m(nmol \u001b[38;5;241m-\u001b[39m \u001b[38;5;241m1\u001b[39m):\n",
      "\u001b[1;31mAssertionError\u001b[0m: cutoff too large"
     ]
    }
   ],
   "source": [
    "proposers = [\n",
    "    TranslateProposer(tag_selector=RandomTagSelector(), x_range=(-0.5, 0.5), y_range=(-0.5, 0.5), z_range=(0,1e-8)),\n",
    "    RotateProposer(tag_selector=RandomTagSelector())\n",
    "]\n",
    "loggers = [\n",
    "    MCPrintLogger(log_interval=10)\n",
    "]\n",
    "mc = MonteCarlo(temperature= 300,max_iter=1000, proposers= proposers, loggers=loggers)\n",
    "initial.calc = TIP4P()\n",
    "ret = mc.run(initial)\n",
    "ret.wrap()"
   ]
  },
  {
   "cell_type": "code",
   "execution_count": null,
   "metadata": {},
   "outputs": [
    {
     "data": {
      "text/plain": [
       "<Popen: returncode: None args: ['c:\\\\Users\\\\User\\\\AppData\\\\Local\\\\pypoetry\\\\...>"
      ]
     },
     "execution_count": 6,
     "metadata": {},
     "output_type": "execute_result"
    }
   ],
   "source": [
    "view(ret)"
   ]
  },
  {
   "cell_type": "code",
   "execution_count": 7,
   "metadata": {},
   "outputs": [
    {
     "name": "stdout",
     "output_type": "stream",
     "text": [
      "\u001b[1;31mInit signature:\u001b[0m \u001b[0mTIP4P\u001b[0m\u001b[1;33m(\u001b[0m\u001b[0mrc\u001b[0m\u001b[1;33m=\u001b[0m\u001b[1;36m7.0\u001b[0m\u001b[1;33m,\u001b[0m \u001b[0mwidth\u001b[0m\u001b[1;33m=\u001b[0m\u001b[1;36m1.0\u001b[0m\u001b[1;33m)\u001b[0m\u001b[1;33m\u001b[0m\u001b[1;33m\u001b[0m\u001b[0m\n",
      "\u001b[1;31mDocstring:\u001b[0m     \n",
      "Base-class for all ASE calculators.\n",
      "\n",
      "A calculator must raise PropertyNotImplementedError if asked for a\n",
      "property that it can't calculate.  So, if calculation of the\n",
      "stress tensor has not been implemented, get_stress(atoms) should\n",
      "raise PropertyNotImplementedError.  This can be achieved simply by not\n",
      "including the string 'stress' in the list implemented_properties\n",
      "which is a class member.  These are the names of the standard\n",
      "properties: 'energy', 'forces', 'stress', 'dipole', 'charges',\n",
      "'magmom' and 'magmoms'.\n",
      "\u001b[1;31mInit docstring:\u001b[0m\n",
      "TIP4P potential for water.\n",
      "\n",
      "https://doi.org/10.1063/1.445869\n",
      "\n",
      "Requires an atoms object of OHH,OHH, ... sequence\n",
      "Correct TIP4P charges and LJ parameters set automatically.\n",
      "\n",
      "Virtual interaction sites implemented in the following scheme:\n",
      "Original atoms object has no virtual sites.\n",
      "When energy/forces are requested:\n",
      "\n",
      "* virtual sites added to temporary xatoms object\n",
      "* energy / forces calculated\n",
      "* forces redistributed from virtual sites to actual atoms object\n",
      "\n",
      "This means you do not get into trouble when propagating your system\n",
      "with MD while having to skip / account for massless virtual sites.\n",
      "\n",
      "This also means that if using for QM/MM MD with GPAW, the EmbedTIP4P\n",
      "class must be used.\n",
      "\u001b[1;31mFile:\u001b[0m           c:\\users\\user\\appdata\\local\\pypoetry\\cache\\virtualenvs\\asetil-nugttejn-py3.12\\lib\\site-packages\\ase\\calculators\\tip4p.py\n",
      "\u001b[1;31mType:\u001b[0m           ABCMeta\n",
      "\u001b[1;31mSubclasses:\u001b[0m     "
     ]
    }
   ],
   "source": [
    "TIP4P"
   ]
  },
  {
   "cell_type": "code",
   "execution_count": null,
   "metadata": {},
   "outputs": [],
   "source": []
  }
 ],
 "metadata": {
  "kernelspec": {
   "display_name": "Python 3",
   "language": "python",
   "name": "python3"
  },
  "language_info": {
   "codemirror_mode": {
    "name": "ipython",
    "version": 3
   },
   "file_extension": ".py",
   "mimetype": "text/x-python",
   "name": "python",
   "nbconvert_exporter": "python",
   "pygments_lexer": "ipython3",
   "version": "3.12.1"
  }
 },
 "nbformat": 4,
 "nbformat_minor": 2
}
