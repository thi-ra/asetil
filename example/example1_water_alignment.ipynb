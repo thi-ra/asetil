{
 "cells": [
  {
   "cell_type": "code",
   "execution_count": 1,
   "metadata": {},
   "outputs": [],
   "source": [
    "import numpy as np\n",
    "from ase import Atoms\n",
    "from ase.build import molecule\n",
    "from ase.calculators.tip4p import TIP4P\n",
    "from ase.visualize import view\n",
    "np.random.seed(42)"
   ]
  },
  {
   "cell_type": "code",
   "execution_count": 2,
   "metadata": {},
   "outputs": [],
   "source": [
    "atoms = Atoms()\n",
    "atoms.cell = (20, 20, 20)\n",
    "\n",
    "h2o = molecule('H2O')\n",
    "h2o.rotate('z', 'x')\n",
    "h2o.rotate('x', 'y')\n",
    "translate_vectors = [[i, j, 0] for i in [0,4,8] for j in [0,4,8]]\n",
    "\n",
    "for i, vec in enumerate(translate_vectors):\n",
    "    add = h2o.copy()\n",
    "    add.set_tags([i]*len(add))\n",
    "    add.translate(vec)\n",
    "    atoms += add\n",
    "initial = atoms.copy()\n",
    "initial.pbc = True"
   ]
  },
  {
   "cell_type": "code",
   "execution_count": 3,
   "metadata": {},
   "outputs": [
    {
     "data": {
      "text/plain": [
       "<Popen: returncode: None args: ['c:\\\\Users\\\\User\\\\AppData\\\\Local\\\\pypoetry\\\\...>"
      ]
     },
     "execution_count": 3,
     "metadata": {},
     "output_type": "execute_result"
    }
   ],
   "source": [
    "# view(initial)"
   ]
  },
  {
   "cell_type": "code",
   "execution_count": 1,
   "metadata": {},
   "outputs": [],
   "source": [
    "import sys\n",
    "sys.path.append('../')\n",
    "from asetil.monte_carlo.monte_carlo import MonteCarlo\n",
    "from asetil.monte_carlo.proposer import TranslateProposer, RotateProposer\n",
    "from asetil.monte_carlo.selector import RandomTagSelector\n",
    "from asetil.monte_carlo.logger import MCPrintLogger, MCPFileLogger"
   ]
  },
  {
   "cell_type": "code",
   "execution_count": 5,
   "metadata": {},
   "outputs": [
    {
     "name": "stdout",
     "output_type": "stream",
     "text": [
      "initializing loggers\n",
      " iteration,   proposer.name,   potential_energy,    delta_e,   acceptability,  is_accepted\n",
      "         0,       Translate,          -0.019477,   0.035377,        0.254500,        False\n",
      "        10,       Translate,          -0.167852,  -0.051648,        1.000000,         True\n",
      "        20,          Rotate,          -0.214689,   0.056616,        0.111916,        False\n",
      "        30,       Translate,          -0.260501,  -0.006122,        1.000000,         True\n",
      "        40,       Translate,          -0.445874,  -0.009078,        1.000000,         True\n",
      "        50,       Translate,          -0.429557,   0.008415,        0.722150,        False\n",
      "        60,          Rotate,          -0.546323,  -0.042342,        1.000000,         True\n",
      "        70,          Rotate,          -0.580789,  -0.030747,        1.000000,         True\n",
      "        80,       Translate,          -0.716267,  -0.005391,        1.000000,         True\n",
      "        90,          Rotate,          -0.536938,   0.236560,        0.000106,        False\n",
      "       100,          Rotate,          -0.830417,  -0.026378,        1.000000,         True\n",
      "       110,       Translate,          -0.808798,   0.032539,        0.284031,         True\n",
      "       120,       Translate,          -0.869687,  -0.024381,        1.000000,         True\n",
      "       130,          Rotate,          -0.656253,   0.256353,        0.000049,        False\n",
      "       140,          Rotate,          -0.863051,   0.011976,        0.629222,         True\n",
      "       150,          Rotate,          -1.043953,   0.008055,        0.732277,        False\n",
      "       160,       Translate,          -1.074427,  -0.012123,        1.000000,         True\n",
      "       170,          Rotate,          -1.078192,   0.000912,        0.965345,         True\n",
      "       180,       Translate,          -1.041710,  -0.002086,        1.000000,         True\n",
      "       190,       Translate,          -1.046257,   0.046825,        0.163445,        False\n",
      "       200,       Translate,          -1.197014,   0.003239,        0.882232,         True\n",
      "       210,          Rotate,          -1.148392,   0.061595,        0.092312,        False\n",
      "       220,          Rotate,          -1.168293,   0.043985,        0.182425,        False\n",
      "       230,       Translate,          -1.156700,   0.205550,        0.000352,        False\n",
      "       240,          Rotate,          -1.013834,   0.340614,        0.000002,        False\n",
      "       250,          Rotate,          -1.141332,   0.271083,        0.000028,        False\n",
      "       260,          Rotate,          -1.398187,   0.042022,        0.196814,        False\n",
      "       270,          Rotate,          -0.813734,   0.647272,        0.000000,        False\n",
      "       280,          Rotate,          -0.991357,   0.460447,        0.000000,        False\n",
      "       290,          Rotate,          -1.394461,   0.057343,        0.108811,        False\n",
      "       300,          Rotate,          -1.394201,   0.100295,        0.020660,        False\n",
      "       310,          Rotate,          -0.943852,   0.543968,        0.000000,        False\n",
      "       320,          Rotate,          -1.318105,   0.157502,        0.002260,        False\n",
      "       330,       Translate,          -0.952941,   0.521403,        0.000000,        False\n",
      "       340,       Translate,          -1.431210,   0.011641,        0.637430,        False\n",
      "       350,          Rotate,          -1.432005,   0.041419,        0.201465,         True\n",
      "       360,       Translate,          -1.438810,   0.070434,        0.065578,        False\n",
      "       370,          Rotate,          -0.747079,   0.724206,        0.000000,        False\n",
      "       380,       Translate,          -1.380615,   0.110521,        0.013910,        False\n",
      "       390,          Rotate,          -1.431223,   0.014113,        0.579318,         True\n",
      "       400,       Translate,          -1.507562,   0.006243,        0.785459,         True\n",
      "       410,          Rotate,          -1.493519,   0.023911,        0.396561,        False\n",
      "       420,          Rotate,          -1.505098,  -0.006473,        1.000000,         True\n",
      "       430,          Rotate,          -1.531098,  -0.008276,        1.000000,         True\n",
      "       440,          Rotate,          -1.309922,   0.269448,        0.000030,        False\n",
      "       450,          Rotate,          -1.632060,  -0.028867,        1.000000,         True\n",
      "       460,          Rotate,          -1.688597,   0.044867,        0.176306,         True\n",
      "       470,          Rotate,          -1.471596,   0.167393,        0.001541,        False\n",
      "       480,          Rotate,          -1.125987,   0.561568,        0.000000,        False\n",
      "       490,          Rotate,          -1.640713,   0.010772,        0.659237,         True\n",
      "       500,          Rotate,          -0.640041,   1.011560,        0.000000,        False\n",
      "       510,       Translate,          -1.162340,   0.534757,        0.000000,        False\n",
      "       520,          Rotate,          -1.575166,   0.114667,        0.011849,        False\n",
      "       530,          Rotate,          -1.607395,   0.041876,        0.197934,        False\n",
      "       540,          Rotate,          -1.661610,   0.064838,        0.081426,        False\n",
      "       550,          Rotate,          -1.513963,   0.250769,        0.000061,        False\n",
      "       560,       Translate,          -1.655072,   0.098096,        0.022494,        False\n",
      "       570,       Translate,          -1.752793,  -0.001042,        1.000000,         True\n",
      "       580,          Rotate,          -1.677137,   0.129607,        0.006648,        False\n",
      "       590,       Translate,          -1.796453,   0.018025,        0.497966,        False\n",
      "       600,          Rotate,          -1.796067,   0.038951,        0.221638,        False\n",
      "       610,       Translate,          -1.693647,   0.082129,        0.041715,        False\n",
      "       620,       Translate,          -1.610401,  -0.025967,        1.000000,         True\n",
      "       630,          Rotate,          -1.460604,   0.269778,        0.000029,        False\n",
      "       640,          Rotate,          -1.530985,   0.147473,        0.003331,        False\n",
      "       650,          Rotate,          -1.652998,   0.013476,        0.593773,        False\n",
      "       660,          Rotate,          -1.498805,   0.147101,        0.003379,        False\n",
      "       670,          Rotate,          -1.491778,   0.153055,        0.002684,        False\n",
      "       680,       Translate,          -0.969176,   0.726550,        0.000000,        False\n",
      "       690,       Translate,          -1.687995,   0.051651,        0.135611,        False\n",
      "       700,          Rotate,          -1.495375,   0.224619,        0.000168,        False\n",
      "       710,          Rotate,          -1.634185,   0.044612,        0.178053,        False\n",
      "       720,       Translate,          -1.680656,   0.047478,        0.159370,         True\n",
      "       730,       Translate,          -1.561829,   0.049377,        0.148081,        False\n",
      "       740,       Translate,          -1.244797,   0.341959,        0.000002,        False\n",
      "       750,       Translate,          -1.405922,   0.219092,        0.000209,        False\n",
      "       760,       Translate,          -1.597951,  -0.014041,        1.000000,         True\n",
      "       770,          Rotate,          -1.245519,   0.338743,        0.000002,        False\n",
      "       780,       Translate,          -1.596344,   0.010766,        0.659391,        False\n",
      "       790,       Translate,          -1.661341,   0.002177,        0.919241,         True\n",
      "       800,       Translate,          -1.739485,   0.010880,        0.656471,         True\n",
      "       810,       Translate,          -1.640143,   0.066771,        0.075560,        False\n",
      "       820,          Rotate,          -1.650423,   0.051957,        0.134018,        False\n",
      "       830,          Rotate,          -1.705549,   0.008105,        0.730877,         True\n",
      "       840,          Rotate,          -1.715982,   0.008148,        0.729664,         True\n",
      "       850,          Rotate,          -1.695704,   0.031318,        0.297766,         True\n",
      "       860,       Translate,          -1.420839,   0.298911,        0.000010,        False\n",
      "       870,       Translate,          -0.954414,   0.812864,        0.000000,        False\n",
      "       880,          Rotate,          -1.629287,   0.156219,        0.002375,        False\n",
      "       890,       Translate,          -1.752746,   0.033789,        0.270629,        False\n",
      "       900,       Translate,          -1.705754,   0.092565,        0.027860,        False\n",
      "       910,       Translate,          -1.766906,   0.053729,        0.125138,         True\n",
      "       920,       Translate,          -1.051240,   0.665567,        0.000000,        False\n",
      "       930,          Rotate,          -1.576753,   0.134819,        0.005434,        False\n",
      "       940,       Translate,          -1.376789,   0.437416,        0.000000,        False\n",
      "       950,          Rotate,          -1.854633,   0.003651,        0.868305,         True\n",
      "       960,          Rotate,          -1.708331,   0.134733,        0.005452,        False\n",
      "       970,       Translate,          -1.853356,   0.049949,        0.144844,        False\n",
      "       980,          Rotate,          -1.767364,   0.143365,        0.003905,        False\n",
      "       990,          Rotate,          -1.475218,   0.433383,        0.000000,        False\n"
     ]
    }
   ],
   "source": [
    "proposers = [\n",
    "    TranslateProposer(tag_selector=RandomTagSelector(), x_range=(-0.5, 0.5), y_range=(-0.5, 0.5), z_range=(0,1e-8)),\n",
    "    RotateProposer(tag_selector=RandomTagSelector())\n",
    "]\n",
    "loggers = [\n",
    "    MCPrintLogger(log_interval=10),\n",
    "    MCPFileLogger(log_interval=10, out_file='example1_log.txt', force_overwrite=True)\n",
    "]\n",
    "mc = MonteCarlo(temperature= 300,max_iter=1000, proposers= proposers, loggers=loggers)\n",
    "initial.calc = TIP4P()\n",
    "ret = mc.run(initial)\n",
    "ret.wrap()"
   ]
  },
  {
   "cell_type": "code",
   "execution_count": 6,
   "metadata": {},
   "outputs": [
    {
     "data": {
      "text/plain": [
       "<Popen: returncode: None args: ['c:\\\\Users\\\\User\\\\AppData\\\\Local\\\\pypoetry\\\\...>"
      ]
     },
     "execution_count": 6,
     "metadata": {},
     "output_type": "execute_result"
    }
   ],
   "source": [
    "view(ret)"
   ]
  },
  {
   "cell_type": "code",
   "execution_count": null,
   "metadata": {},
   "outputs": [],
   "source": []
  }
 ],
 "metadata": {
  "kernelspec": {
   "display_name": "Python 3",
   "language": "python",
   "name": "python3"
  },
  "language_info": {
   "codemirror_mode": {
    "name": "ipython",
    "version": 3
   },
   "file_extension": ".py",
   "mimetype": "text/x-python",
   "name": "python",
   "nbconvert_exporter": "python",
   "pygments_lexer": "ipython3",
   "version": "3.12.1"
  }
 },
 "nbformat": 4,
 "nbformat_minor": 2
}
